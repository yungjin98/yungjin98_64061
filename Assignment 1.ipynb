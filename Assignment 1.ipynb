{
 "cells": [
  {
   "cell_type": "code",
   "execution_count": 11,
   "id": "a57df0d6-12ab-40f1-a732-f091e8493eb1",
   "metadata": {},
   "outputs": [],
   "source": [
    "import numpy as np\n",
    "import pandas as pd\n",
    "import tensorflow as tf\n",
    "from tensorflow.keras.datasets import imdb\n",
    "from tensorflow.keras import layers, models\n",
    "import matplotlib.pyplot as plt"
   ]
  },
  {
   "cell_type": "markdown",
   "id": "f869449b-d8cb-4a04-9638-3f73e4e963e7",
   "metadata": {},
   "source": [
    "## Loading the IMDB dataset"
   ]
  },
  {
   "cell_type": "code",
   "execution_count": 2,
   "id": "a2ce962e-cc6b-447c-8fdc-2a511083a11a",
   "metadata": {},
   "outputs": [],
   "source": [
    "# load the IMDB dataset\n",
    "(train_data, train_labels), (test_data, test_labels) = imdb.load_data(num_words=10000)"
   ]
  },
  {
   "cell_type": "markdown",
   "id": "af0a6b4e-7170-4d8e-960b-6a012e5b8243",
   "metadata": {},
   "source": [
    "## Data Preparation"
   ]
  },
  {
   "cell_type": "code",
   "execution_count": 4,
   "id": "c0acee6b-3b1a-4465-96ba-8f247c98cfed",
   "metadata": {},
   "outputs": [],
   "source": [
    "def vectorize_sequences(sequences, dimension=10000):\n",
    "    results = np.zeros((len(sequences), dimension))\n",
    "    for i, sequence in enumerate(sequences):\n",
    "        for j in sequence:\n",
    "            results[i, j] = 1.\n",
    "    return results\n",
    "\n",
    "# vectorize the data\n",
    "x_train = vectorize_sequences(train_data)\n",
    "x_test = vectorize_sequences(test_data)\n",
    "y_train = np.asarray(train_labels).astype(\"float32\")\n",
    "y_test = np.asarray(test_labels).astype(\"float32\")\n",
    "\n",
    "# set aside a validation set\n",
    "x_val = x_train[:10000]\n",
    "partial_x_train = x_train[10000:]\n",
    "y_val = y_train[:10000]\n",
    "partial_y_train = y_train[10000:]"
   ]
  },
  {
   "cell_type": "markdown",
   "id": "3b14d15c-c75a-4c14-bf05-3cc1dbae7f9a",
   "metadata": {},
   "source": [
    "## Modeling"
   ]
  },
  {
   "cell_type": "markdown",
   "id": "f5572506-91c3-486c-ba9c-d9f21f1d1b21",
   "metadata": {},
   "source": [
    "### 1. Experiment with number of hidden layers"
   ]
  },
  {
   "cell_type": "code",
   "execution_count": 6,
   "id": "07d42fe7-0db4-4299-8174-0d5a2e6aec73",
   "metadata": {},
   "outputs": [],
   "source": [
    "layer_experiments = [1, 2, 3]\n",
    "layer_results = {}\n",
    "for num_layers in layer_experiments:\n",
    "    model = models.Sequential()\n",
    "    for _ in range(num_layers):\n",
    "        model.add(layers.Dense(16, activation='relu'))\n",
    "    model.add(layers.Dense(1, activation='sigmoid'))\n",
    "\n",
    "    model.compile(optimizer='rmsprop',\n",
    "                  loss='binary_crossentropy',\n",
    "                  metrics=['accuracy'])\n",
    "\n",
    "    history = model.fit(partial_x_train,\n",
    "                        partial_y_train,\n",
    "                        epochs=20,\n",
    "                        batch_size=512,\n",
    "                        validation_data=(x_val, y_val),\n",
    "                        verbose=0)\n",
    "\n",
    "    val_acc = history.history['val_accuracy'][-1]\n",
    "    test_loss, test_acc = model.evaluate(x_test, y_test, verbose=0)\n",
    "    layer_results[num_layers] = {'val_acc': val_acc, 'test_acc': test_acc}"
   ]
  },
  {
   "cell_type": "markdown",
   "id": "19342d75-159b-4404-90ff-29834e5c27db",
   "metadata": {},
   "source": [
    "### 2. Experiment with number of hidden units"
   ]
  },
  {
   "cell_type": "code",
   "execution_count": 7,
   "id": "a7d6cab3-39b2-4281-a151-cc65f6c8b07a",
   "metadata": {},
   "outputs": [],
   "source": [
    "unit_experiments = [32, 64]\n",
    "unit_results = {}\n",
    "for num_units in unit_experiments:\n",
    "    model = models.Sequential([\n",
    "        layers.Dense(num_units, activation='relu'),\n",
    "        layers.Dense(num_units, activation='relu'),\n",
    "        layers.Dense(1, activation='sigmoid')\n",
    "    ])\n",
    "\n",
    "    model.compile(optimizer='rmsprop',\n",
    "                  loss='binary_crossentropy',\n",
    "                  metrics=['accuracy'])\n",
    "\n",
    "    history = model.fit(partial_x_train,\n",
    "                        partial_y_train,\n",
    "                        epochs=20,\n",
    "                        batch_size=512,\n",
    "                        validation_data=(x_val, y_val),\n",
    "                        verbose=0)\n",
    "\n",
    "    val_acc = history.history['val_accuracy'][-1]\n",
    "    test_loss, test_acc = model.evaluate(x_test, y_test, verbose=0)\n",
    "    unit_results[num_units] = {'val_acc': val_acc, 'test_acc': test_acc}"
   ]
  },
  {
   "cell_type": "markdown",
   "id": "af0a4ef3-28fb-4202-bb36-93b615c82e4d",
   "metadata": {},
   "source": [
    "### 3. Experiment with mse loss function"
   ]
  },
  {
   "cell_type": "code",
   "execution_count": 8,
   "id": "b4f0b1c2-2063-4b36-bcfd-c176e84fec16",
   "metadata": {},
   "outputs": [],
   "source": [
    "model_mse = models.Sequential([\n",
    "    layers.Dense(16, activation='relu'),\n",
    "    layers.Dense(16, activation='relu'),\n",
    "    layers.Dense(1, activation='sigmoid')\n",
    "])\n",
    "\n",
    "model_mse.compile(optimizer='rmsprop',\n",
    "                  loss='mse',\n",
    "                  metrics=['accuracy'])\n",
    "\n",
    "history_mse = model_mse.fit(partial_x_train,\n",
    "                            partial_y_train,\n",
    "                            epochs=20,\n",
    "                            batch_size=512,\n",
    "                            validation_data=(x_val, y_val),\n",
    "                            verbose=0)\n",
    "\n",
    "val_acc_mse = history_mse.history['val_accuracy'][-1]\n",
    "test_loss_mse, test_acc_mse = model_mse.evaluate(x_test, y_test, verbose=0)\n",
    "mse_results = {'val_acc': val_acc_mse, 'test_acc': test_acc_mse}"
   ]
  },
  {
   "cell_type": "markdown",
   "id": "baca7d52-50f2-4d92-97d4-8921e44cce96",
   "metadata": {},
   "source": [
    "### 4. Experiment with tanh activation"
   ]
  },
  {
   "cell_type": "code",
   "execution_count": 9,
   "id": "45848c87-ccd1-4fdb-8245-29fd4b4af7f4",
   "metadata": {},
   "outputs": [],
   "source": [
    "model_tanh = models.Sequential([\n",
    "    layers.Dense(16, activation='tanh'),\n",
    "    layers.Dense(16, activation='tanh'),\n",
    "    layers.Dense(1, activation='sigmoid')\n",
    "])\n",
    "\n",
    "model_tanh.compile(optimizer='rmsprop',\n",
    "                   loss='binary_crossentropy',\n",
    "                   metrics=['accuracy'])\n",
    "\n",
    "history_tanh = model_tanh.fit(partial_x_train,\n",
    "                              partial_y_train,\n",
    "                              epochs=20,\n",
    "                              batch_size=512,\n",
    "                              validation_data=(x_val, y_val),\n",
    "                              verbose=0)\n",
    "\n",
    "val_acc_tanh = history_tanh.history['val_accuracy'][-1]\n",
    "test_loss_tanh, test_acc_tanh = model_tanh.evaluate(x_test, y_test, verbose=0)\n",
    "tanh_results = {'val_acc': val_acc_tanh, 'test_acc': test_acc_tanh}"
   ]
  },
  {
   "cell_type": "markdown",
   "id": "30b67987-35c6-4171-9987-6254f006955a",
   "metadata": {},
   "source": [
    "### 5. Experiment with dropout for regularization"
   ]
  },
  {
   "cell_type": "code",
   "execution_count": 10,
   "id": "90b3ea7e-67d0-477f-808d-072ed729d61b",
   "metadata": {},
   "outputs": [],
   "source": [
    "from tensorflow.keras.layers import Dropout\n",
    "\n",
    "model_dropout = models.Sequential([\n",
    "    layers.Dense(16, activation='relu'),\n",
    "    Dropout(0.5),\n",
    "    layers.Dense(16, activation='relu'),\n",
    "    Dropout(0.5),\n",
    "    layers.Dense(1, activation='sigmoid')\n",
    "])\n",
    "\n",
    "model_dropout.compile(optimizer='rmsprop',\n",
    "                      loss='binary_crossentropy',\n",
    "                      metrics=['accuracy'])\n",
    "\n",
    "history_dropout = model_dropout.fit(partial_x_train,\n",
    "                                    partial_y_train,\n",
    "                                    epochs=20,\n",
    "                                    batch_size=512,\n",
    "                                    validation_data=(x_val, y_val),\n",
    "                                    verbose=0)\n",
    "\n",
    "val_acc_dropout = history_dropout.history['val_accuracy'][-1]\n",
    "test_loss_dropout, test_acc_dropout = model_dropout.evaluate(x_test, y_test, verbose=0)\n",
    "dropout_results = {'val_acc': val_acc_dropout, 'test_acc': test_acc_dropout}"
   ]
  },
  {
   "cell_type": "code",
   "execution_count": 12,
   "id": "c77936a6-8c6a-443e-b62b-ebc6ea19d134",
   "metadata": {},
   "outputs": [
    {
     "data": {
      "text/html": [
       "<div>\n",
       "<style scoped>\n",
       "    .dataframe tbody tr th:only-of-type {\n",
       "        vertical-align: middle;\n",
       "    }\n",
       "\n",
       "    .dataframe tbody tr th {\n",
       "        vertical-align: top;\n",
       "    }\n",
       "\n",
       "    .dataframe thead th {\n",
       "        text-align: right;\n",
       "    }\n",
       "</style>\n",
       "<table border=\"1\" class=\"dataframe\">\n",
       "  <thead>\n",
       "    <tr style=\"text-align: right;\">\n",
       "      <th></th>\n",
       "      <th>Experiment</th>\n",
       "      <th>Validation Accuracy</th>\n",
       "      <th>Test Accuracy</th>\n",
       "    </tr>\n",
       "  </thead>\n",
       "  <tbody>\n",
       "    <tr>\n",
       "      <th>0</th>\n",
       "      <td>Number of Layers (1)</td>\n",
       "      <td>0.8770</td>\n",
       "      <td>0.86764</td>\n",
       "    </tr>\n",
       "    <tr>\n",
       "      <th>1</th>\n",
       "      <td>Number of Layers (2)</td>\n",
       "      <td>0.8672</td>\n",
       "      <td>0.85484</td>\n",
       "    </tr>\n",
       "    <tr>\n",
       "      <th>2</th>\n",
       "      <td>Number of Layers (3)</td>\n",
       "      <td>0.8665</td>\n",
       "      <td>0.85328</td>\n",
       "    </tr>\n",
       "    <tr>\n",
       "      <th>3</th>\n",
       "      <td>Number of Units (32)</td>\n",
       "      <td>0.8677</td>\n",
       "      <td>0.85468</td>\n",
       "    </tr>\n",
       "    <tr>\n",
       "      <th>4</th>\n",
       "      <td>Number of Units (64)</td>\n",
       "      <td>0.8763</td>\n",
       "      <td>0.86468</td>\n",
       "    </tr>\n",
       "    <tr>\n",
       "      <th>5</th>\n",
       "      <td>MSE Loss</td>\n",
       "      <td>0.8738</td>\n",
       "      <td>0.86452</td>\n",
       "    </tr>\n",
       "    <tr>\n",
       "      <th>6</th>\n",
       "      <td>Tanh Activation</td>\n",
       "      <td>0.8678</td>\n",
       "      <td>0.85288</td>\n",
       "    </tr>\n",
       "    <tr>\n",
       "      <th>7</th>\n",
       "      <td>Dropout Regularization</td>\n",
       "      <td>0.8814</td>\n",
       "      <td>0.87364</td>\n",
       "    </tr>\n",
       "  </tbody>\n",
       "</table>\n",
       "</div>"
      ],
      "text/plain": [
       "               Experiment  Validation Accuracy  Test Accuracy\n",
       "0    Number of Layers (1)               0.8770        0.86764\n",
       "1    Number of Layers (2)               0.8672        0.85484\n",
       "2    Number of Layers (3)               0.8665        0.85328\n",
       "3    Number of Units (32)               0.8677        0.85468\n",
       "4    Number of Units (64)               0.8763        0.86468\n",
       "5                MSE Loss               0.8738        0.86452\n",
       "6         Tanh Activation               0.8678        0.85288\n",
       "7  Dropout Regularization               0.8814        0.87364"
      ]
     },
     "execution_count": 12,
     "metadata": {},
     "output_type": "execute_result"
    }
   ],
   "source": [
    "results = {\n",
    "    'Number of Layers': layer_results,\n",
    "    'Number of Units': unit_results,\n",
    "    'MSE Loss': mse_results,\n",
    "    'Tanh Activation': tanh_results,\n",
    "    'Dropout Regularization': dropout_results\n",
    "}\n",
    "\n",
    "result_table = []\n",
    "for experiment, res in results.items():\n",
    "    if isinstance(res, dict):\n",
    "        for key, value in res.items():\n",
    "            if isinstance(value, dict):\n",
    "                result_table.append([experiment + f' ({key})', value['val_acc'], value['test_acc']])\n",
    "            else:\n",
    "                result_table.append([experiment, res['val_acc'], res['test_acc']])\n",
    "                break\n",
    "\n",
    "result_df = pd.DataFrame(result_table, columns=['Experiment', 'Validation Accuracy', 'Test Accuracy'])\n",
    "result_df"
   ]
  },
  {
   "cell_type": "code",
   "execution_count": 13,
   "id": "f615bf02-91a8-45c0-8857-ecff1d81ca2b",
   "metadata": {},
   "outputs": [
    {
     "data": {
      "image/png": "[encoded data removed]",
      "text/plain": [
       "<Figure size 640x480 with 1 Axes>"
      ]
     },
     "metadata": {},
     "output_type": "display_data"
    }
   ],
   "source": [
    "layer_vals = [layer_results[i]['val_acc'] for i in layer_experiments]\n",
    "plt.figure()\n",
    "plt.plot(layer_experiments, layer_vals)\n",
    "plt.title('Validation Accuracy vs Number of Layers')\n",
    "plt.xlabel('Number of Layers')\n",
    "plt.ylabel('Validation Accuracy')\n",
    "plt.show()"
   ]
  }
 ],
 "metadata": {
  "kernelspec": {
   "display_name": "Python 3 (ipykernel)",
   "language": "python",
   "name": "python3"
  },
  "language_info": {
   "codemirror_mode": {
    "name": "ipython",
    "version": 3
   },
   "file_extension": ".py",
   "mimetype": "text/x-python",
   "name": "python",
   "nbconvert_exporter": "python",
   "pygments_lexer": "ipython3",
   "version": "3.12.7"
  },
  "widgets": {
   "application/vnd.jupyter.widget-state+json": {
    "state": {},
    "version_major": 2,
    "version_minor": 0
   }
  }
 },
 "nbformat": 4,
 "nbformat_minor": 5
}
